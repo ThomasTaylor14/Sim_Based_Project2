{
 "cells": [
  {
   "cell_type": "code",
   "execution_count": 1,
   "metadata": {},
   "outputs": [],
   "source": [
    "import numpy as np\n",
    "import matplotlib.pyplot as plt\n",
    "from particles import kalman"
   ]
  },
  {
   "cell_type": "code",
   "execution_count": 2,
   "metadata": {},
   "outputs": [],
   "source": [
    "# first define the linear gaussian model\n",
    "# dimensions\n",
    "dx = 4\n",
    "dy = 2\n",
    "\n",
    "# initial distribution of X0 ~ N(mu0,Sigma0)\n",
    "mu0 = np.zeros(dx)\n",
    "Sigma0 = np.eye(dx)\n",
    "almost_zero = 1e-15\n",
    "\n",
    "# transition for Xt\n",
    "def construct_ssm(rho, sigma_X, sigma_Y):\n",
    "    # transition matrix\n",
    "    F = np.diag([1, 1, rho, rho])\n",
    "    F[0,2] = 1\n",
    "    F[1,3] = 1\n",
    "\n",
    "    # covariance matrix for Xt\n",
    "    SigmaX = np.diag([almost_zero, almost_zero, sigma_X**2, sigma_X**2])\n",
    "\n",
    "    # observation matrix\n",
    "    G = np.zeros([dy, dx])\n",
    "    G[0,0] = 1\n",
    "    G[1,1] = 1\n",
    "\n",
    "    # observation covariance matrix\n",
    "    SigmaY = np.diag([sigma_Y**2, sigma_Y**2])\n",
    "\n",
    "    # define my linear gaussian model state space model (SSM) for tracking\n",
    "    ssm = kalman.MVLinearGauss(F=F, G=G, covX=SigmaX, covY=SigmaY, mu0=mu0, cov0=Sigma0)\n",
    "\n",
    "    return ssm\n"
   ]
  },
  {
   "cell_type": "code",
   "execution_count": 3,
   "metadata": {},
   "outputs": [],
   "source": [
    "# construct model with some parameter values\n",
    "ssm = construct_ssm(rho=0.99, sigma_X=1, sigma_Y=20)\n"
   ]
  },
  {
   "cell_type": "code",
   "execution_count": 4,
   "metadata": {},
   "outputs": [],
   "source": [
    "# simulate data from the model\n",
    "T = 500\n",
    "states, obs = ssm.simulate(T=T)"
   ]
  },
  {
   "cell_type": "code",
   "execution_count": 8,
   "metadata": {},
   "outputs": [
    {
     "name": "stdout",
     "output_type": "stream",
     "text": [
      "<class 'list'>\n",
      "500\n",
      "<class 'list'>\n",
      "500\n"
     ]
    }
   ],
   "source": [
    "print(type(states))\n",
    "print(len(states))\n",
    "\n",
    "print(type(obs))\n",
    "print(len(obs))"
   ]
  },
  {
   "cell_type": "code",
   "execution_count": 13,
   "metadata": {},
   "outputs": [
    {
     "data": {
      "text/plain": [
       "<matplotlib.legend.Legend at 0x7fa4890ddc40>"
      ]
     },
     "execution_count": 13,
     "metadata": {},
     "output_type": "execute_result"
    },
    {
     "data": {
      "image/png": "[encoded data removed]",
      "text/plain": [
       "<Figure size 432x288 with 1 Axes>"
      ]
     },
     "metadata": {
      "needs_background": "light"
     },
     "output_type": "display_data"
    }
   ],
   "source": [
    "# plot the simulated data\n",
    "X1 = [x[0,0] for x in states]\n",
    "X2 = [x[0,1] for x in states]\n",
    "Y1 = [y[0,0] for y in obs]\n",
    "Y2 = [y[0,1] for y in obs]\n",
    "\n",
    "plt.figure()\n",
    "plt.plot(X1, X2, 'k-')\n",
    "plt.scatter(Y1, Y2, s=3)\n",
    "plt.legend([\"Position\", \"Observation\"], fontsize=15)"
   ]
  },
  {
   "cell_type": "code",
   "execution_count": 15,
   "metadata": {},
   "outputs": [],
   "source": [
    "# Kalman filtering \n",
    "\n",
    "# just instantiates the class for Kalman filtering\n",
    "kf = kalman.Kalman(ssm=ssm, data=obs)\n",
    "\n",
    "# run Kalman filter\n",
    "kf.filter()\n"
   ]
  },
  {
   "cell_type": "code",
   "execution_count": 21,
   "metadata": {},
   "outputs": [
    {
     "name": "stdout",
     "output_type": "stream",
     "text": [
      "<class 'list'>\n",
      "500\n",
      "MeanAndCov(mean=array([[-0.07163543,  0.04674642,  0.        ,  0.        ]]), cov=array([[0.99750623, 0.        , 0.        , 0.        ],\n",
      "       [0.        , 0.99750623, 0.        , 0.        ],\n",
      "       [0.        , 0.        , 1.        , 0.        ],\n",
      "       [0.        , 0.        , 0.        , 1.        ]]))\n"
     ]
    }
   ],
   "source": [
    "# results \n",
    "print(type(kf.filt))\n",
    "print(len(kf.filt))\n",
    "print(kf.filt[0])\n",
    "\n"
   ]
  },
  {
   "cell_type": "code",
   "execution_count": 24,
   "metadata": {},
   "outputs": [
    {
     "name": "stdout",
     "output_type": "stream",
     "text": [
      "[[-0.07163543  0.04674642  0.          0.        ]]\n",
      "[[0.99750623 0.         0.         0.        ]\n",
      " [0.         0.99750623 0.         0.        ]\n",
      " [0.         0.         1.         0.        ]\n",
      " [0.         0.         0.         1.        ]]\n"
     ]
    }
   ],
   "source": [
    "# mean vector at time 0\n",
    "print(kf.filt[0].mean)\n",
    "\n",
    "# covariance matrix at time 0 \n",
    "print(kf.filt[0].cov)"
   ]
  },
  {
   "cell_type": "code",
   "execution_count": 25,
   "metadata": {},
   "outputs": [
    {
     "data": {
      "text/plain": [
       "<matplotlib.legend.Legend at 0x7fa4a9982df0>"
      ]
     },
     "execution_count": 25,
     "metadata": {},
     "output_type": "execute_result"
    },
    {
     "data": {
      "image/png": "[encoded data removed]",
      "text/plain": [
       "<Figure size 432x288 with 1 Axes>"
      ]
     },
     "metadata": {
      "needs_background": "light"
     },
     "output_type": "display_data"
    }
   ],
   "source": [
    "# extracts the filtering means\n",
    "X1_filtering = [filtering.mean[0,0] for filtering in kf.filt]\n",
    "X2_filtering = [filtering.mean[0,1] for filtering in kf.filt]\n",
    "\n",
    "\n",
    "plt.figure()\n",
    "plt.plot(X1, X2, 'k-')\n",
    "plt.scatter(Y1, Y2, s=3)\n",
    "plt.plot(X1_filtering, X2_filtering, 'r-')\n",
    "plt.legend([\"Position\", \"Observation\", \"Filtering\"], fontsize=15)"
   ]
  },
  {
   "cell_type": "code",
   "execution_count": 28,
   "metadata": {},
   "outputs": [
    {
     "name": "stdout",
     "output_type": "stream",
     "text": [
      "<class 'list'>\n",
      "500\n",
      "[[ 0.03106459 -0.15348908 -0.02152862 -1.05624189]]\n",
      "[[ 0.98436914  0.         -0.04219801  0.        ]\n",
      " [ 0.          0.98436914  0.         -0.04219801]\n",
      " [-0.04219801  0.          0.7368777   0.        ]\n",
      " [ 0.         -0.04219801  0.          0.7368777 ]]\n"
     ]
    }
   ],
   "source": [
    "# run Kalman smoothing\n",
    "kf.smoother()\n",
    "\n",
    "# results \n",
    "print(type(kf.smth))\n",
    "print(len(kf.smth))\n",
    "\n",
    "# smoothing mean at time 0\n",
    "print(kf.smth[0].mean)\n",
    "\n",
    "# smoothing cov at time 0\n",
    "print(kf.smth[0].cov)"
   ]
  },
  {
   "cell_type": "code",
   "execution_count": 31,
   "metadata": {},
   "outputs": [
    {
     "data": {
      "text/plain": [
       "[<matplotlib.lines.Line2D at 0x7fa478ff7220>]"
      ]
     },
     "execution_count": 31,
     "metadata": {},
     "output_type": "execute_result"
    },
    {
     "data": {
      "image/png": "[encoded data removed]",
      "text/plain": [
       "<Figure size 432x288 with 1 Axes>"
      ]
     },
     "metadata": {
      "needs_background": "light"
     },
     "output_type": "display_data"
    }
   ],
   "source": [
    "# extracts the smoothing means\n",
    "X1_smoothing = [smoothing.mean[0,0] for smoothing in kf.smth]\n",
    "X2_smoothing = [smoothing.mean[0,1] for smoothing in kf.smth]\n",
    "\n",
    "\n",
    "# smoothing means are \"smoother\" than the filtering means\n",
    "plt.figure()\n",
    "plt.plot(X1, X2, 'k-')\n",
    "plt.scatter(Y1, Y2, s=3)\n",
    "plt.plot(X1_filtering, X2_filtering, 'r-')\n",
    "plt.plot(X1_smoothing, X2_smoothing, 'g-')\n",
    "# plt.legend([\"Position\", \"Observation\", \"Filtering\", \"Smoothing\"], fontsize=15)"
   ]
  },
  {
   "cell_type": "code",
   "execution_count": 33,
   "metadata": {},
   "outputs": [],
   "source": [
    "# learn parameters using maximum likelihood\n",
    "def loglikelihood(theta):\n",
    "    # get parameters\n",
    "    rho = theta[0]\n",
    "    sigma_X = theta[1]\n",
    "    sigma_Y = theta[2]\n",
    "\n",
    "    # construct state space model\n",
    "    ssm = construct_ssm(rho, sigma_X, sigma_Y)\n",
    "\n",
    "    # run Kalman filtering to evaluate the log-likelihood\n",
    "    kf = kalman.Kalman(ssm=ssm, data=obs)\n",
    "    kf.filter()\n",
    "\n",
    "    # return loglikelihood using sum\n",
    "    return np.sum(kf.logpyt)\n"
   ]
  },
  {
   "cell_type": "code",
   "execution_count": 40,
   "metadata": {},
   "outputs": [],
   "source": [
    "from scipy.optimize import minimize\n",
    "theta0 = [1, 1, 10]\n",
    "output = minimize(lambda theta: -loglikelihood(theta), theta0)"
   ]
  },
  {
   "cell_type": "code",
   "execution_count": 39,
   "metadata": {},
   "outputs": [
    {
     "name": "stdout",
     "output_type": "stream",
     "text": [
      "MLE [ 0.98772598  0.87124608 20.71537372]\n",
      "True parameters:\n",
      "['rho', 0.99, 'sigma_X', 1, 'sigma_Y', 20]\n"
     ]
    }
   ],
   "source": [
    "# maximum likelihood estimator \n",
    "print(\"MLE\", output.x)\n",
    "\n",
    "# true parameters\n",
    "print(\"True parameters:\")\n",
    "print([\"rho\", 0.99, \"sigma_X\", 1, \"sigma_Y\", 20])"
   ]
  }
 ],
 "metadata": {
  "kernelspec": {
   "display_name": "base",
   "language": "python",
   "name": "python3"
  },
  "language_info": {
   "codemirror_mode": {
    "name": "ipython",
    "version": 3
   },
   "file_extension": ".py",
   "mimetype": "text/x-python",
   "name": "python",
   "nbconvert_exporter": "python",
   "pygments_lexer": "ipython3",
   "version": "3.8.3"
  },
  "orig_nbformat": 4
 },
 "nbformat": 4,
 "nbformat_minor": 2
}
